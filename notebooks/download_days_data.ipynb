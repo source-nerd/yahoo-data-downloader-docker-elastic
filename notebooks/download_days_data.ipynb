{
 "cells": [
  {
   "cell_type": "code",
   "execution_count": 11,
   "metadata": {
    "collapsed": true,
    "pycharm": {
     "name": "#%%\n"
    }
   },
   "outputs": [],
   "source": [
    "import os\n",
    "from datetime import datetime, timedelta\n",
    "from pathlib import Path\n",
    "import yfinance as yf\n",
    "\n",
    "from logger import MyLogger"
   ]
  },
  {
   "cell_type": "code",
   "execution_count": 12,
   "outputs": [],
   "source": [
    "LOGGER = MyLogger(log_file=\"\", name=\"download_data\")\n",
    "STOCKS_LIST = str(os.getenv(\"STOCKS\", \"AAPL,TSLA,MSFT\")).split(\",\")\n",
    "INDEX_1_DAY = os.getenv(\"INDEX_1_DAY\", \"us_tickers_1d\")"
   ],
   "metadata": {
    "collapsed": false,
    "pycharm": {
     "name": "#%%\n"
    }
   }
  },
  {
   "cell_type": "code",
   "execution_count": 13,
   "outputs": [],
   "source": [
    "\n",
    "def save_as_csv(data_df, op_path):\n",
    "    data_df.reset_index(drop=True, inplace=True)\n",
    "    data_df.to_csv(op_path, index=False)\n",
    "\n",
    "\n",
    "def download_1d_data(ticker, s_date, e_data):\n",
    "    \"\"\"\n",
    "    Download 1 day\\'s worth of data from start to end data\n",
    "    :param ticker: Ticker name , e.g: \"AAPL\"\n",
    "    :param s_date: Start date, e.g: \"2021-05-07\"\n",
    "    :param e_data: End date, e.g: \"2021-05-07\"\n",
    "    :return:\n",
    "    \"\"\"\n",
    "    data_interval = \"1d\"\n",
    "    data_1_day = yf.download(\n",
    "        tickers=ticker, start=s_date, end=e_data, interval=data_interval\n",
    "    )\n",
    "    data_1_day.reset_index(level=0, inplace=True)\n",
    "    return data_1_day\n",
    "\n",
    "\n",
    "def day_downloader_main():\n",
    "    start_date = \"2007-01-01\"\n",
    "    end_date = (datetime.today() + timedelta(days=1)).strftime(\"%Y-%m-%d\")\n",
    "    LOGGER.info(f\"Downloading day's worth of data for date - [{start_date}]\")\n",
    "    # es_client = get_es_client()\n",
    "\n",
    "    for item in STOCKS_LIST:\n",
    "        res_data = download_1d_data(item, start_date, end_date)\n",
    "        LOGGER.info(f\"Res size:: {res_data.shape}\")\n",
    "        if res_data.shape[0] > 0:\n",
    "            file_name = f\"{item}_max.csv\"\n",
    "            op_dir = Path(f\"../data/day/{item}\")\n",
    "            op_dir.mkdir(parents=True, exist_ok=True)\n",
    "            op_path = os.path.join(op_dir, file_name)\n",
    "\n",
    "            save_as_csv(data_df=res_data, op_path=op_path)\n",
    "            pass\n",
    "            # helpers.bulk(\n",
    "            #     es_client, doc_generator(res_data, item, \"Date\", INDEX_1_DAY)\n",
    "            # )\n",
    "    LOGGER.info(f\"Done downloading data\")"
   ],
   "metadata": {
    "collapsed": false,
    "pycharm": {
     "name": "#%%\n"
    }
   }
  },
  {
   "cell_type": "code",
   "execution_count": 14,
   "outputs": [
    {
     "name": "stdout",
     "output_type": "stream",
     "text": [
      "2021-12-18 17:07:17,952 - download_data - INFO - Global variables are:: ['AAPL', 'TSLA', 'MSFT']\n",
      "2021-12-18 17:07:17,953 - download_data - INFO - Downloading day's worth of data for date - [2007-01-01]\n",
      "[*********************100%***********************]  1 of 1 completed\n",
      "2021-12-18 17:07:18,299 - download_data - INFO - Res size:: (3768, 7)\n",
      "[*********************100%***********************]  1 of 1 completed\n",
      "2021-12-18 17:07:18,678 - download_data - INFO - Res size:: (2890, 7)\n",
      "[*********************100%***********************]  1 of 1 completed\n",
      "2021-12-18 17:07:19,016 - download_data - INFO - Res size:: (3768, 7)\n",
      "2021-12-18 17:07:19,087 - download_data - INFO - Done downloading data\n"
     ]
    }
   ],
   "source": [
    "LOGGER.info(f\"Global variables are:: {STOCKS_LIST}\")\n",
    "day_downloader_main()"
   ],
   "metadata": {
    "collapsed": false,
    "pycharm": {
     "name": "#%%\n"
    }
   }
  },
  {
   "cell_type": "code",
   "execution_count": 9,
   "outputs": [],
   "source": [],
   "metadata": {
    "collapsed": false,
    "pycharm": {
     "name": "#%%\n"
    }
   }
  },
  {
   "cell_type": "code",
   "execution_count": null,
   "outputs": [],
   "source": [],
   "metadata": {
    "collapsed": false,
    "pycharm": {
     "name": "#%%\n"
    }
   }
  }
 ],
 "metadata": {
  "kernelspec": {
   "display_name": "Python 3",
   "language": "python",
   "name": "python3"
  },
  "language_info": {
   "codemirror_mode": {
    "name": "ipython",
    "version": 2
   },
   "file_extension": ".py",
   "mimetype": "text/x-python",
   "name": "python",
   "nbconvert_exporter": "python",
   "pygments_lexer": "ipython2",
   "version": "2.7.6"
  }
 },
 "nbformat": 4,
 "nbformat_minor": 0
}
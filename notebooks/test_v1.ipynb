{
 "cells": [
  {
   "cell_type": "code",
   "execution_count": 41,
   "metadata": {
    "collapsed": true
   },
   "outputs": [],
   "source": [
    "import string\n",
    "from random import random\n",
    "\n",
    "import pandas as pd\n",
    "import yfinance as yf\n",
    "from IPython.core.display import display\n",
    "from elasticsearch import Elasticsearch\n",
    "from elasticsearch import helpers\n",
    "import random\n",
    "import string\n",
    "from random import randrange"
   ]
  },
  {
   "cell_type": "code",
   "execution_count": null,
   "outputs": [],
   "source": [
    "# Downloads 90 day's worth of data"
   ],
   "metadata": {
    "collapsed": false,
    "pycharm": {
     "name": "#%%\n"
    }
   }
  },
  {
   "cell_type": "markdown",
   "source": [
    "Cron job will be set for Monday to Friday\n",
    "1. Iterate for all the stocks\n",
    "2. Check for any latest stock price\n",
    "3. Send the data to elastic\n"
   ],
   "metadata": {
    "collapsed": false,
    "pycharm": {
     "name": "#%% md\n"
    }
   }
  },
  {
   "cell_type": "code",
   "execution_count": 56,
   "outputs": [],
   "source": [
    "stocks_list = [\"AAPL\", \"TSLA\", \"GM\", \"MSFT\"]\n",
    "index_1m = \"us_tickers_1m\""
   ],
   "metadata": {
    "collapsed": false,
    "pycharm": {
     "name": "#%%\n"
    }
   }
  },
  {
   "cell_type": "markdown",
   "source": [
    "## Minute Data downloader"
   ],
   "metadata": {
    "collapsed": false,
    "pycharm": {
     "name": "#%% md\n"
    }
   }
  },
  {
   "cell_type": "code",
   "execution_count": 57,
   "outputs": [
    {
     "name": "stdout",
     "output_type": "stream",
     "text": [
      "[*********************100%***********************]  4 of 4 completed\n"
     ]
    }
   ],
   "source": [
    "# data = yf.download(\n",
    "#     tickers=stocks_list,\n",
    "#     period=\"1d\",\n",
    "#     interval=\"1m\",\n",
    "#     group_by = 'ticker',\n",
    "#     auto_adjust = True,\n",
    "#     threads = True\n",
    "# )\n",
    "\n",
    "es_client = Elasticsearch(['localhost'], port=9200, http_compress=True)"
   ],
   "metadata": {
    "collapsed": false,
    "pycharm": {
     "name": "#%%\n"
    }
   }
  },
  {
   "cell_type": "code",
   "execution_count": 79,
   "outputs": [],
   "source": [
    "# def random_id_generator():\n",
    "#     id_size = randrange(5,10)\n",
    "#     return ''.join(random.choices(string.ascii_uppercase + string.digits, k=id_size))\n",
    "#\n",
    "# def doc_generator(df, ticker_name):\n",
    "#     df_iter = df.iterrows()\n",
    "#     for df_idx, document in df_iter:\n",
    "#         doc_dict = document.to_dict()\n",
    "#         doc_dict[\"ticker\"] = ticker_name\n",
    "#         doc_id= str(document[\"Datetime\"].value) + \"-\" + str(random_id_generator())\n",
    "#         final_doc = {\n",
    "#                 \"_index\": index_1m,\n",
    "#                 \"_type\": \"_doc\",\n",
    "#                 \"_id\" : f\"{doc_id}\",\n",
    "#                 \"_source\": doc_dict,\n",
    "#             }\n",
    "#\n",
    "#         yield final_doc"
   ],
   "metadata": {
    "collapsed": false,
    "pycharm": {
     "name": "#%%\n"
    }
   }
  },
  {
   "cell_type": "code",
   "execution_count": 54,
   "outputs": [],
   "source": [
    "# for item in stocks_list:\n",
    "#     # Clear the index\n",
    "#     res_data = data[item].reset_index(level=0)\n",
    "#     # Doc Generator\n",
    "#     doc_generator(res_data, item)\n",
    "#     # ES Writer\n",
    "#     helpers.bulk(es_client, doc_generator(res_data, item))\n",
    "#     break"
   ],
   "metadata": {
    "collapsed": false,
    "pycharm": {
     "name": "#%%\n"
    }
   }
  },
  {
   "cell_type": "markdown",
   "source": [
    "## Close data downloader"
   ],
   "metadata": {
    "collapsed": false,
    "pycharm": {
     "name": "#%% md\n"
    }
   }
  },
  {
   "cell_type": "code",
   "execution_count": 82,
   "outputs": [],
   "source": [
    "start_date = \"2021-05-07\"\n",
    "end_date = \"2021-05-08\"\n",
    "interval = \"1d\""
   ],
   "metadata": {
    "collapsed": false,
    "pycharm": {
     "name": "#%%\n"
    }
   }
  },
  {
   "cell_type": "code",
   "execution_count": 74,
   "outputs": [
    {
     "data": {
      "text/plain": "        Date        Open        High         Low       Close   Adj Close  \\\n0 2021-05-06  127.889999  129.750000  127.129997  129.740005  129.520004   \n1 2021-05-07  130.850006  131.259995  129.479996  130.210007  130.210007   \n\n     Volume  \n0  78128300  \n1  78892700  ",
      "text/html": "<div>\n<style scoped>\n    .dataframe tbody tr th:only-of-type {\n        vertical-align: middle;\n    }\n\n    .dataframe tbody tr th {\n        vertical-align: top;\n    }\n\n    .dataframe thead th {\n        text-align: right;\n    }\n</style>\n<table border=\"1\" class=\"dataframe\">\n  <thead>\n    <tr style=\"text-align: right;\">\n      <th></th>\n      <th>Date</th>\n      <th>Open</th>\n      <th>High</th>\n      <th>Low</th>\n      <th>Close</th>\n      <th>Adj Close</th>\n      <th>Volume</th>\n    </tr>\n  </thead>\n  <tbody>\n    <tr>\n      <th>0</th>\n      <td>2021-05-06</td>\n      <td>127.889999</td>\n      <td>129.750000</td>\n      <td>127.129997</td>\n      <td>129.740005</td>\n      <td>129.520004</td>\n      <td>78128300</td>\n    </tr>\n    <tr>\n      <th>1</th>\n      <td>2021-05-07</td>\n      <td>130.850006</td>\n      <td>131.259995</td>\n      <td>129.479996</td>\n      <td>130.210007</td>\n      <td>130.210007</td>\n      <td>78892700</td>\n    </tr>\n  </tbody>\n</table>\n</div>"
     },
     "execution_count": 74,
     "metadata": {},
     "output_type": "execute_result"
    }
   ],
   "source": [
    "# data"
   ],
   "metadata": {
    "collapsed": false,
    "pycharm": {
     "name": "#%%\n"
    }
   }
  },
  {
   "cell_type": "code",
   "execution_count": 100,
   "outputs": [],
   "source": [
    "def download_1d_data(ticker, s_date, e_data):\n",
    "    \"\"\"\n",
    "    Download 1 day\\'s worth of data from start to end data\n",
    "    :param ticker: Ticker name , e.g: \"AAPL\"\n",
    "    :param s_date: Start date, e.g: \"2021-05-07\"\n",
    "    :param e_data: End date, e.g: \"2021-05-07\"\n",
    "    :return:\n",
    "    \"\"\"\n",
    "    data_interval = \"1d\"\n",
    "    data_1_day = yf.download(tickers=ticker,\n",
    "                   start=s_date,\n",
    "                   end=e_data,\n",
    "                   interval=data_interval)\n",
    "    data_1_day.reset_index(level=0, inplace=True)\n",
    "    display(data_1_day.dtypes)\n",
    "    return data_1_day\n",
    "\n",
    "def download_min_data(ticker, s_date, e_date):\n",
    "    data_interval = \"1m\"\n",
    "    data_1_min = yf.download(\n",
    "        tickers=ticker,\n",
    "        start=s_date,\n",
    "        end=e_date,\n",
    "        interval=data_interval,\n",
    "        auto_adjust = True,\n",
    "        threads = True\n",
    "    )\n",
    "    data_1_min.reset_index(level=0, inplace=True)\n",
    "    return data_1_min\n",
    "\n",
    "def random_id_generator():\n",
    "    id_size = randrange(5,10)\n",
    "    return ''.join(random.choices(string.ascii_uppercase + string.digits, k=id_size))\n",
    "\n",
    "def doc_generator(df, ticker_name, date_time_field, es_index):\n",
    "    df_iter = df.iterrows()\n",
    "    for df_idx, document in df_iter:\n",
    "        doc_dict = document.to_dict()\n",
    "        doc_dict[\"ticker\"] = ticker_name\n",
    "        doc_id= str(document[date_time_field].value) + \"-\" + str(random_id_generator())\n",
    "        final_doc = {\n",
    "                \"_index\": es_index,\n",
    "                \"_type\": \"_doc\",\n",
    "                \"_id\" : f\"{doc_id}\",\n",
    "                \"_source\": doc_dict,\n",
    "            }\n",
    "\n",
    "        yield final_doc"
   ],
   "metadata": {
    "collapsed": false,
    "pycharm": {
     "name": "#%%\n"
    }
   }
  },
  {
   "cell_type": "code",
   "execution_count": 96,
   "outputs": [],
   "source": [
    "stocks_list = [\"TSLA\", \"GM\", \"MSFT\"]\n",
    "index_1_min = \"us_tickers_1m\"\n",
    "index_1_day = \"us_tickers_1d\""
   ],
   "metadata": {
    "collapsed": false,
    "pycharm": {
     "name": "#%%\n"
    }
   }
  },
  {
   "cell_type": "code",
   "execution_count": 97,
   "outputs": [
    {
     "name": "stdout",
     "output_type": "stream",
     "text": [
      "[*********************100%***********************]  1 of 1 completed\n"
     ]
    },
    {
     "data": {
      "text/plain": "Date         datetime64[ns]\nOpen                float64\nHigh                float64\nLow                 float64\nClose               float64\nAdj Close           float64\nVolume                int64\ndtype: object"
     },
     "metadata": {},
     "output_type": "display_data"
    },
    {
     "name": "stderr",
     "output_type": "stream",
     "text": [
      "d:\\workspace\\stock\\finance_dataset_downloader\\venv\\lib\\site-packages\\elasticsearch\\connection\\base.py:200: ElasticsearchWarning: [types removal] Specifying types in bulk requests is deprecated.\n",
      "  warnings.warn(message, category=ElasticsearchWarning)\n"
     ]
    }
   ],
   "source": [
    "for item in stocks_list:\n",
    "    # Download the data\n",
    "    res_data = download_1d_data(item, start_date, end_date)\n",
    "    # Doc Generator\n",
    "    # doc_generator(res_data, item, index_1_day)\n",
    "    # ES Writer\n",
    "    helpers.bulk(es_client, doc_generator(res_data, item, \"Date\", index_1_day))\n",
    "    break"
   ],
   "metadata": {
    "collapsed": false,
    "pycharm": {
     "name": "#%%\n"
    }
   }
  },
  {
   "cell_type": "code",
   "execution_count": 98,
   "outputs": [
    {
     "data": {
      "text/plain": "'2021-05-08'"
     },
     "execution_count": 98,
     "metadata": {},
     "output_type": "execute_result"
    }
   ],
   "source": [
    "from datetime import datetime\n",
    "datetime.today().strftime('%Y-%m-%d')"
   ],
   "metadata": {
    "collapsed": false,
    "pycharm": {
     "name": "#%%\n"
    }
   }
  },
  {
   "cell_type": "code",
   "execution_count": 104,
   "outputs": [
    {
     "name": "stdout",
     "output_type": "stream",
     "text": [
      "[*********************100%***********************]  1 of 1 completed\n"
     ]
    }
   ],
   "source": [
    "d = download_min_data(\"AAPL\", start_date, end_date)"
   ],
   "metadata": {
    "collapsed": false,
    "pycharm": {
     "name": "#%%\n"
    }
   }
  },
  {
   "cell_type": "code",
   "execution_count": 105,
   "outputs": [
    {
     "data": {
      "text/plain": "                     Datetime        Open        High         Low       Close  \\\n0   2021-05-07 09:30:00-04:00  130.129105  130.160004  130.059998  130.089996   \n1   2021-05-07 09:31:00-04:00  130.089996  130.289993  129.899994  129.899994   \n2   2021-05-07 09:32:00-04:00  129.899994  130.160004  129.820007  130.009995   \n3   2021-05-07 09:33:00-04:00  130.011993  130.179993  129.989700  130.053497   \n4   2021-05-07 09:34:00-04:00  130.039993  130.080002  129.750000  130.009903   \n..                        ...         ...         ...         ...         ...   \n385 2021-05-07 15:55:00-04:00  130.455002  130.550003  130.449997  130.500000   \n386 2021-05-07 15:56:00-04:00  130.500000  130.500000  130.320007  130.339996   \n387 2021-05-07 15:57:00-04:00  130.339996  130.429993  130.330093  130.425003   \n388 2021-05-07 15:58:00-04:00  130.420105  130.429993  130.229996  130.240097   \n389 2021-05-07 15:59:00-04:00  130.250000  130.309998  130.169998  130.199997   \n\n      Volume  \n0    3751200  \n1     555927  \n2     433729  \n3     354315  \n4     415355  \n..       ...  \n385   360894  \n386   372397  \n387   274799  \n388   503093  \n389   989563  \n\n[390 rows x 6 columns]",
      "text/html": "<div>\n<style scoped>\n    .dataframe tbody tr th:only-of-type {\n        vertical-align: middle;\n    }\n\n    .dataframe tbody tr th {\n        vertical-align: top;\n    }\n\n    .dataframe thead th {\n        text-align: right;\n    }\n</style>\n<table border=\"1\" class=\"dataframe\">\n  <thead>\n    <tr style=\"text-align: right;\">\n      <th></th>\n      <th>Datetime</th>\n      <th>Open</th>\n      <th>High</th>\n      <th>Low</th>\n      <th>Close</th>\n      <th>Volume</th>\n    </tr>\n  </thead>\n  <tbody>\n    <tr>\n      <th>0</th>\n      <td>2021-05-07 09:30:00-04:00</td>\n      <td>130.129105</td>\n      <td>130.160004</td>\n      <td>130.059998</td>\n      <td>130.089996</td>\n      <td>3751200</td>\n    </tr>\n    <tr>\n      <th>1</th>\n      <td>2021-05-07 09:31:00-04:00</td>\n      <td>130.089996</td>\n      <td>130.289993</td>\n      <td>129.899994</td>\n      <td>129.899994</td>\n      <td>555927</td>\n    </tr>\n    <tr>\n      <th>2</th>\n      <td>2021-05-07 09:32:00-04:00</td>\n      <td>129.899994</td>\n      <td>130.160004</td>\n      <td>129.820007</td>\n      <td>130.009995</td>\n      <td>433729</td>\n    </tr>\n    <tr>\n      <th>3</th>\n      <td>2021-05-07 09:33:00-04:00</td>\n      <td>130.011993</td>\n      <td>130.179993</td>\n      <td>129.989700</td>\n      <td>130.053497</td>\n      <td>354315</td>\n    </tr>\n    <tr>\n      <th>4</th>\n      <td>2021-05-07 09:34:00-04:00</td>\n      <td>130.039993</td>\n      <td>130.080002</td>\n      <td>129.750000</td>\n      <td>130.009903</td>\n      <td>415355</td>\n    </tr>\n    <tr>\n      <th>...</th>\n      <td>...</td>\n      <td>...</td>\n      <td>...</td>\n      <td>...</td>\n      <td>...</td>\n      <td>...</td>\n    </tr>\n    <tr>\n      <th>385</th>\n      <td>2021-05-07 15:55:00-04:00</td>\n      <td>130.455002</td>\n      <td>130.550003</td>\n      <td>130.449997</td>\n      <td>130.500000</td>\n      <td>360894</td>\n    </tr>\n    <tr>\n      <th>386</th>\n      <td>2021-05-07 15:56:00-04:00</td>\n      <td>130.500000</td>\n      <td>130.500000</td>\n      <td>130.320007</td>\n      <td>130.339996</td>\n      <td>372397</td>\n    </tr>\n    <tr>\n      <th>387</th>\n      <td>2021-05-07 15:57:00-04:00</td>\n      <td>130.339996</td>\n      <td>130.429993</td>\n      <td>130.330093</td>\n      <td>130.425003</td>\n      <td>274799</td>\n    </tr>\n    <tr>\n      <th>388</th>\n      <td>2021-05-07 15:58:00-04:00</td>\n      <td>130.420105</td>\n      <td>130.429993</td>\n      <td>130.229996</td>\n      <td>130.240097</td>\n      <td>503093</td>\n    </tr>\n    <tr>\n      <th>389</th>\n      <td>2021-05-07 15:59:00-04:00</td>\n      <td>130.250000</td>\n      <td>130.309998</td>\n      <td>130.169998</td>\n      <td>130.199997</td>\n      <td>989563</td>\n    </tr>\n  </tbody>\n</table>\n<p>390 rows × 6 columns</p>\n</div>"
     },
     "execution_count": 105,
     "metadata": {},
     "output_type": "execute_result"
    }
   ],
   "source": [
    "d"
   ],
   "metadata": {
    "collapsed": false,
    "pycharm": {
     "name": "#%%\n"
    }
   }
  },
  {
   "cell_type": "code",
   "execution_count": null,
   "outputs": [],
   "source": [],
   "metadata": {
    "collapsed": false,
    "pycharm": {
     "name": "#%%\n"
    }
   }
  }
 ],
 "metadata": {
  "kernelspec": {
   "display_name": "Python 3",
   "language": "python",
   "name": "python3"
  },
  "language_info": {
   "codemirror_mode": {
    "name": "ipython",
    "version": 2
   },
   "file_extension": ".py",
   "mimetype": "text/x-python",
   "name": "python",
   "nbconvert_exporter": "python",
   "pygments_lexer": "ipython2",
   "version": "2.7.6"
  }
 },
 "nbformat": 4,
 "nbformat_minor": 0
}